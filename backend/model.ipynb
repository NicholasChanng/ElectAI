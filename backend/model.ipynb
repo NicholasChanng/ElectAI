{
 "cells": [
  {
   "cell_type": "code",
   "execution_count": null,
   "metadata": {},
   "outputs": [],
   "source": [
    "import numpy as np\n",
    "import pandas as pd\n",
    "import matplotlib.pyplot as plt\n",
    "import seaborn as sns\n",
    "from sklearn.linear_model import LinearRegression\n",
    "from sklearn.model_selection import train_test_split\n",
    "import joblib\n",
    "\n",
    "demographics = pd.read_csv('data/election_demographics_final.csv', index_col=False)\n",
    "\n",
    "input_vars = ['Presidential', 'PercentBachelors', 'Income', 'PercentWhite', 'AverageAge']\n",
    "# demographics_train, demographics_test = train_test_split(demographics, test_size=0.2, random_state=2950)\n",
    "\n",
    "# Train the model\n",
    "model = LinearRegression().fit(demographics[input_vars], demographics['PercentVotingEligibleVotes'])\n",
    "\n",
    "# Save the model\n",
    "joblib.dump(model, 'voter_turnout_model.pkl')"
   ]
  }
 ],
 "metadata": {
  "kernelspec": {
   "display_name": "Python 3",
   "language": "python",
   "name": "python3"
  },
  "language_info": {
   "name": "python",
   "version": "3.13.0"
  }
 },
 "nbformat": 4,
 "nbformat_minor": 2
}
