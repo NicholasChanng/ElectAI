{
 "cells": [
  {
   "cell_type": "markdown",
   "metadata": {},
   "source": [
    "# Model"
   ]
  },
  {
   "cell_type": "markdown",
   "metadata": {},
   "source": [
    "We're importing standard libraries here."
   ]
  },
  {
   "cell_type": "code",
   "execution_count": 11,
   "metadata": {},
   "outputs": [],
   "source": [
    "import numpy as np\n",
    "import pandas as pd\n",
    "import matplotlib.pyplot as plt\n",
    "import seaborn as sns\n",
    "from sklearn.linear_model import LinearRegression\n",
    "from sklearn.model_selection import train_test_split\n",
    "import joblib"
   ]
  },
  {
   "cell_type": "code",
   "execution_count": 12,
   "metadata": {},
   "outputs": [
    {
     "data": {
      "text/plain": [
       "['voter_turnout_model.pkl']"
      ]
     },
     "execution_count": 12,
     "metadata": {},
     "output_type": "execute_result"
    }
   ],
   "source": [
    "demographics = pd.read_csv('data/election_demographics_final.csv', index_col=False)\n",
    "\n",
    "input_vars = ['Year', 'Presidential', 'PercentBachelors', 'Income', 'PercentWhite', 'AverageAge']\n",
    "# demographics_train, demographics_test = train_test_split(demographics, test_size=0.2, random_state=2950)\n",
    "\n",
    "# Train the model\n",
    "model = LinearRegression().fit(demographics[input_vars], demographics['PercentVotingEligibleVotes'])\n",
    "\n",
    "# Save the model\n",
    "joblib.dump(model, 'voter_turnout_model.pkl')"
   ]
  },
  {
   "cell_type": "markdown",
   "metadata": {},
   "source": [
    "# Acknowledgements and Bibliography"
   ]
  },
  {
   "cell_type": "markdown",
   "metadata": {},
   "source": [
    "### Acknowledgements\n",
    "\n",
    "Resources such as GeeksForGeeks and Stack Overflow were often used to fix certain errors in our code, with links to issues (and their solutions) being presented in our above writeups. \n",
    "\n",
    " ---\n",
    "\n",
    "1. “A Text Analysis of the 2020 US Presidential Election Campaign Speeches — School of Data Science” School of Data Science, datascience.virginia.edu/projects/text-analysis-2020-us-presidential-election-campaign-speeches. Accessed 5 Dec. 2024.\n",
    "\n",
    "2. News Center, & Pheterson, M. (2024). What every American needs to know about voter turnout Voter turnout: What every American needs to know before the election. In News Center.\n",
    "\n",
    "3. How Systemic Racism Keeps Millions of Black People from Voting. (2018). In Vera Institute of Justice.\n",
    "\n",
    "4. US Elections Project - Voter Turnout Data. (n.d.). In www.electproject.org. Retrieved November 21, 2024.\n",
    "\n",
    "5. United States Voter Turnout UF Election Lab. (n.d.). Retrieved November 21, 2024.\n",
    "\n",
    "6. 2009, Educational Attainment, Annual: Bachelor’s Degree or Higher by State. (n.d.). In St. Louis Fed. Retrieved November 21, 2024.\n",
    "\n",
    "7. 2023, Release Tables: Real Median Household Income by State, Annual. (n.d.). In St. Louis Fed. Retrieved November 21, 2024.\n",
    "\n",
    "8. Population Distribution by Race/Ethnicity. (n.d.). In KFF. Retrieved November 21, 2024.\n",
    "\n",
    "9. Population Distribution by Age. (n.d.). In KFF. Retrieved November 21, 2024.\n",
    "\n",
    "10. The White Population: 2000 - Census.Gov. Accessed November 21, 2024.\n",
    "\n",
    "11. Race and Ethnicity of the U.S. Population. (n.d.). In Race and Ethnicity in Higher Education. Retrieved November 21, 2024.\n",
    "\n",
    "12. Contributors to Wikimedia projects. (2024). List of U.S. states by non-Hispanic white population. In Wikipedia. Wikimedia Foundation.\n",
    "\n",
    "13. US Census Bureau. (n.d.). Race and Ethnicity in the United States: 2010 Census and 2020 Census. In Census.gov. Retrieved November 21, 2024.\n",
    "\n",
    "14. American Community Survey 2006 Geographic Comparisons and State Rankings. (n.d.). In census.hawaii.gov. Retrieved November 21, 2024.\n",
    "\n",
    "15. Median Age and Age Groups for the U.S. and All States: 2000. Accessed November 21, 2024.\n",
    "\n",
    "16. Age and Sex Composition: 2020 - Census.Gov. Accessed November 21, 2024.\n",
    "\n",
    "17. Educational Attainment for the U.S. and All States: 2000. Accessed November 21, 2024.\n",
    "\n",
    "18. DeSilver, D. (2014). Voter turnout always drops off for midterm elections, but why? In Pew Research Center.\n",
    "\n",
    "19. Ruth Igielnik and Abby Budiman. (2020). The Changing Racial and Ethnic Composition of the U.S. Electorate. In Pew Research Center.\n",
    "\n",
    "20. Wolf, Z. B. (2024). Analysis: Why education level has become the best predictor for how someone will vote. In CNN Politics.\n",
    "\n",
    "21. Why Older Citizens Are More Likely to Vote | Retirement | U.S. News. Accessed November 21, 2024.\n",
    "\n",
    "22. Hannah Hartig, Andrew Daniller. “1. Voter Turnout, 2018-2022.” Pew Research Center, Pew Research Center, July 12, 2023.\n",
    "\n",
    "23. 12 Oct. 2016, www.washingtonpost.com/news/monkey-cage/wp/2016/10/12/how-do-race-ethnicity-and-class-shape-american-political-attitudes-heres-our-data/. Accessed 5 Dec. 2024.\n",
    "\n",
    "24. “Regression model constant causes multicollinearity warning, but not in standardized model” Cross Validated, 10 Mar. 2018, stats.stackexchange.com/questions/332428/regression-model-constant-causes-multicollinearity-warning-but-not-in-standardi. Accessed 5 Dec. 2024."
   ]
  }
 ],
 "metadata": {
  "kernelspec": {
   "display_name": "base",
   "language": "python",
   "name": "python3"
  },
  "language_info": {
   "codemirror_mode": {
    "name": "ipython",
    "version": 3
   },
   "file_extension": ".py",
   "mimetype": "text/x-python",
   "name": "python",
   "nbconvert_exporter": "python",
   "pygments_lexer": "ipython3",
   "version": "3.12.4"
  }
 },
 "nbformat": 4,
 "nbformat_minor": 2
}
